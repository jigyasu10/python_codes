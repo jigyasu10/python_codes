{
  "nbformat": 4,
  "nbformat_minor": 0,
  "metadata": {
    "colab": {
      "name": "Understanding functional programming in Python",
      "provenance": [],
      "collapsed_sections": [],
      "authorship_tag": "ABX9TyODpGWM22usncVMDWW+5/2v",
      "include_colab_link": true
    },
    "kernelspec": {
      "name": "python3",
      "display_name": "Python 3"
    }
  },
  "cells": [
    {
      "cell_type": "markdown",
      "metadata": {
        "id": "view-in-github",
        "colab_type": "text"
      },
      "source": [
        "<a href=\"https://colab.research.google.com/github/jigyasu10/python_codes/blob/master/Understanding_functional_programming.ipynb\" target=\"_parent\"><img src=\"https://colab.research.google.com/assets/colab-badge.svg\" alt=\"Open In Colab\"/></a>"
      ]
    },
    {
      "cell_type": "markdown",
      "metadata": {
        "id": "bxsw3EiObFeJ",
        "colab_type": "text"
      },
      "source": [
        "# Objective: Understanding basic map, reduce and filter function in python\n",
        "[base source ](https://realpython.com/courses/functional-programming-python/)"
      ]
    },
    {
      "cell_type": "code",
      "metadata": {
        "id": "Lm5FLpOJ3ZwE",
        "colab_type": "code",
        "colab": {}
      },
      "source": [
        "import collections\n",
        "from pprint import pprint\n",
        "\n",
        "import os\n",
        "import time\n",
        "import itertools\n",
        "import multiprocessing\n",
        "\n",
        "import concurrent.futures"
      ],
      "execution_count": 0,
      "outputs": []
    },
    {
      "cell_type": "code",
      "metadata": {
        "id": "SjU_81Zt4Dbw",
        "colab_type": "code",
        "colab": {}
      },
      "source": [
        "scientist = collections.namedtuple('Scientist', ['name','field','birthday','nobel'])"
      ],
      "execution_count": 0,
      "outputs": []
    },
    {
      "cell_type": "code",
      "metadata": {
        "id": "xCH16tD04dDu",
        "colab_type": "code",
        "colab": {
          "base_uri": "https://localhost:8080/",
          "height": 34
        },
        "outputId": "03061cd4-01ff-4c0a-a31d-ece12cfb8c4d"
      },
      "source": [
        "scientist"
      ],
      "execution_count": 14,
      "outputs": [
        {
          "output_type": "execute_result",
          "data": {
            "text/plain": [
              "__main__.Scientist"
            ]
          },
          "metadata": {
            "tags": []
          },
          "execution_count": 14
        }
      ]
    },
    {
      "cell_type": "code",
      "metadata": {
        "id": "-X3Mzv3a4gW2",
        "colab_type": "code",
        "colab": {
          "base_uri": "https://localhost:8080/",
          "height": 34
        },
        "outputId": "a5a6ae74-106b-40c1-cfb6-0052abaff0ff"
      },
      "source": [
        "scientist(name = 'Ada Lovelace', field = 'math', birthday = '1815', nobel =False)"
      ],
      "execution_count": 15,
      "outputs": [
        {
          "output_type": "execute_result",
          "data": {
            "text/plain": [
              "Scientist(name='Ada Lovelace', field='math', birthday='1815', nobel=False)"
            ]
          },
          "metadata": {
            "tags": []
          },
          "execution_count": 15
        }
      ]
    },
    {
      "cell_type": "code",
      "metadata": {
        "id": "WJ9FRbyW41BA",
        "colab_type": "code",
        "colab": {}
      },
      "source": [
        "ada = scientist(name = 'Ada Lovelace', field = 'math', birthday = '1815', nobel =False)"
      ],
      "execution_count": 0,
      "outputs": []
    },
    {
      "cell_type": "code",
      "metadata": {
        "id": "SIPQwAVm48hs",
        "colab_type": "code",
        "colab": {
          "base_uri": "https://localhost:8080/",
          "height": 34
        },
        "outputId": "5242435b-4a70-4f6a-802f-a9106b274501"
      },
      "source": [
        "### This is an immutable object now\n",
        "ada.name\n",
        "\n"
      ],
      "execution_count": 17,
      "outputs": [
        {
          "output_type": "execute_result",
          "data": {
            "text/plain": [
              "'Ada Lovelace'"
            ]
          },
          "metadata": {
            "tags": []
          },
          "execution_count": 17
        }
      ]
    },
    {
      "cell_type": "code",
      "metadata": {
        "id": "oEp_YCA76vk6",
        "colab_type": "code",
        "colab": {}
      },
      "source": [
        "scientists = tuple([\n",
        "...     {'name': 'Ada Lovelace', 'field': 'math', 'born': 1815, 'nobel': False},\n",
        "...     {'name': 'Emmy Noether', 'field': 'math', 'born': 1882, 'nobel': False},\n",
        "...     {'name': 'Marie Curie', 'field': 'physics', 'born': 1930, 'nobel': True},\n",
        "... ])\n"
      ],
      "execution_count": 0,
      "outputs": []
    },
    {
      "cell_type": "code",
      "metadata": {
        "id": "vOhwFqwt6x1D",
        "colab_type": "code",
        "colab": {
          "base_uri": "https://localhost:8080/",
          "height": 68
        },
        "outputId": "25c5eed5-075e-49b7-f698-3acababae771"
      },
      "source": [
        "pprint(scientists)"
      ],
      "execution_count": 20,
      "outputs": [
        {
          "output_type": "stream",
          "text": [
            "({'born': 1815, 'field': 'math', 'name': 'Ada Lovelace', 'nobel': False},\n",
            " {'born': 1882, 'field': 'math', 'name': 'Emmy Noether', 'nobel': False},\n",
            " {'born': 1930, 'field': 'physics', 'name': 'Marie Curie', 'nobel': True})\n"
          ],
          "name": "stdout"
        }
      ]
    },
    {
      "cell_type": "code",
      "metadata": {
        "id": "M-r023mJ68dV",
        "colab_type": "code",
        "colab": {}
      },
      "source": [
        "import collections\n",
        "\n",
        "Scientist = collections.namedtuple('Scientist', [\n",
        "    'name',\n",
        "    'field',\n",
        "    'born',\n",
        "    'nobel',\n",
        "])\n",
        "\n",
        "scientists = (\n",
        "    Scientist(name='Ada Lovelace', field='math', born=1815, nobel=False),\n",
        "    Scientist(name='Emmy Noether', field='math', born=1882, nobel=False),\n",
        "    Scientist(name='Marie Curie', field='physics', born=1867, nobel=True),\n",
        "    Scientist(name='Tu Youyou', field='chemistry', born=1930, nobel=True),\n",
        "    Scientist(name='Ada Yonath', field='chemistry', born=1939, nobel=True),\n",
        "    Scientist(name='Vera Rubin', field='astronomy', born=1928, nobel=False),\n",
        "    Scientist(name='Sally Ride', field='physics', born=1951, nobel=False),\n",
        ")\n"
      ],
      "execution_count": 0,
      "outputs": []
    },
    {
      "cell_type": "code",
      "metadata": {
        "id": "a_2sthtVPtkw",
        "colab_type": "code",
        "colab": {
          "base_uri": "https://localhost:8080/",
          "height": 136
        },
        "outputId": "e14e89a8-cbee-4cba-dc18-2dd90b9a0dba"
      },
      "source": [
        "scientists"
      ],
      "execution_count": 22,
      "outputs": [
        {
          "output_type": "execute_result",
          "data": {
            "text/plain": [
              "(Scientist(name='Ada Lovelace', field='math', born=1815, nobel=False),\n",
              " Scientist(name='Emmy Noether', field='math', born=1882, nobel=False),\n",
              " Scientist(name='Marie Curie', field='physics', born=1867, nobel=True),\n",
              " Scientist(name='Tu Youyou', field='chemistry', born=1930, nobel=True),\n",
              " Scientist(name='Ada Yonath', field='chemistry', born=1939, nobel=True),\n",
              " Scientist(name='Vera Rubin', field='astronomy', born=1928, nobel=False),\n",
              " Scientist(name='Sally Ride', field='physics', born=1951, nobel=False))"
            ]
          },
          "metadata": {
            "tags": []
          },
          "execution_count": 22
        }
      ]
    },
    {
      "cell_type": "code",
      "metadata": {
        "id": "Si4gKZ3XPuuV",
        "colab_type": "code",
        "colab": {
          "base_uri": "https://localhost:8080/",
          "height": 34
        },
        "outputId": "f0fc9cc0-50e0-499d-c037-405aa10e5da0"
      },
      "source": [
        "scientists[0].name"
      ],
      "execution_count": 23,
      "outputs": [
        {
          "output_type": "execute_result",
          "data": {
            "text/plain": [
              "'Ada Lovelace'"
            ]
          },
          "metadata": {
            "tags": []
          },
          "execution_count": 23
        }
      ]
    },
    {
      "cell_type": "markdown",
      "metadata": {
        "id": "ctDAjlZHQbfO",
        "colab_type": "text"
      },
      "source": [
        "### Filter"
      ]
    },
    {
      "cell_type": "code",
      "metadata": {
        "id": "ws5zoIcjP6pG",
        "colab_type": "code",
        "colab": {}
      },
      "source": [
        "fs = filter(lambda x: x.nobel is True, scientists)"
      ],
      "execution_count": 0,
      "outputs": []
    },
    {
      "cell_type": "code",
      "metadata": {
        "id": "iFSsTguIRHSH",
        "colab_type": "code",
        "colab": {
          "base_uri": "https://localhost:8080/",
          "height": 34
        },
        "outputId": "9d4af4a5-05a9-4325-e5db-f0f94d452a16"
      },
      "source": [
        "next(fs)"
      ],
      "execution_count": 25,
      "outputs": [
        {
          "output_type": "execute_result",
          "data": {
            "text/plain": [
              "Scientist(name='Marie Curie', field='physics', born=1867, nobel=True)"
            ]
          },
          "metadata": {
            "tags": []
          },
          "execution_count": 25
        }
      ]
    },
    {
      "cell_type": "code",
      "metadata": {
        "id": "T9L3F7zxRTc9",
        "colab_type": "code",
        "colab": {
          "base_uri": "https://localhost:8080/",
          "height": 68
        },
        "outputId": "a239dd73-1e84-41ec-9be9-6b4de9011496"
      },
      "source": [
        "fs_tuple = tuple(filter(lambda x: x.nobel is True, scientists))\n",
        "pprint(fs_tuple)"
      ],
      "execution_count": 26,
      "outputs": [
        {
          "output_type": "stream",
          "text": [
            "(Scientist(name='Marie Curie', field='physics', born=1867, nobel=True),\n",
            " Scientist(name='Tu Youyou', field='chemistry', born=1930, nobel=True),\n",
            " Scientist(name='Ada Yonath', field='chemistry', born=1939, nobel=True))\n"
          ],
          "name": "stdout"
        }
      ]
    },
    {
      "cell_type": "code",
      "metadata": {
        "id": "T7kTZqq8Rjhy",
        "colab_type": "code",
        "colab": {
          "base_uri": "https://localhost:8080/",
          "height": 136
        },
        "outputId": "bd971b97-9865-4185-cc2e-bf86638c5c5b"
      },
      "source": [
        "pprint(tuple(filter(lambda x: True, scientists)))"
      ],
      "execution_count": 27,
      "outputs": [
        {
          "output_type": "stream",
          "text": [
            "(Scientist(name='Ada Lovelace', field='math', born=1815, nobel=False),\n",
            " Scientist(name='Emmy Noether', field='math', born=1882, nobel=False),\n",
            " Scientist(name='Marie Curie', field='physics', born=1867, nobel=True),\n",
            " Scientist(name='Tu Youyou', field='chemistry', born=1930, nobel=True),\n",
            " Scientist(name='Ada Yonath', field='chemistry', born=1939, nobel=True),\n",
            " Scientist(name='Vera Rubin', field='astronomy', born=1928, nobel=False),\n",
            " Scientist(name='Sally Ride', field='physics', born=1951, nobel=False))\n"
          ],
          "name": "stdout"
        }
      ]
    },
    {
      "cell_type": "code",
      "metadata": {
        "id": "CwkUtjMvR4_S",
        "colab_type": "code",
        "colab": {
          "base_uri": "https://localhost:8080/",
          "height": 51
        },
        "outputId": "5c33801e-9415-4821-e023-644fcdcc9c40"
      },
      "source": [
        "pprint(tuple(filter(lambda x: x.field == \"physics\", scientists)))"
      ],
      "execution_count": 28,
      "outputs": [
        {
          "output_type": "stream",
          "text": [
            "(Scientist(name='Marie Curie', field='physics', born=1867, nobel=True),\n",
            " Scientist(name='Sally Ride', field='physics', born=1951, nobel=False))\n"
          ],
          "name": "stdout"
        }
      ]
    },
    {
      "cell_type": "code",
      "metadata": {
        "id": "ywoyIgT1SCoF",
        "colab_type": "code",
        "colab": {
          "base_uri": "https://localhost:8080/",
          "height": 68
        },
        "outputId": "1b480916-c670-4780-e912-c8e845d2f20c"
      },
      "source": [
        "# List comprehension\n",
        "[x for x in scientists if x.nobel is True]"
      ],
      "execution_count": 29,
      "outputs": [
        {
          "output_type": "execute_result",
          "data": {
            "text/plain": [
              "[Scientist(name='Marie Curie', field='physics', born=1867, nobel=True),\n",
              " Scientist(name='Tu Youyou', field='chemistry', born=1930, nobel=True),\n",
              " Scientist(name='Ada Yonath', field='chemistry', born=1939, nobel=True)]"
            ]
          },
          "metadata": {
            "tags": []
          },
          "execution_count": 29
        }
      ]
    },
    {
      "cell_type": "markdown",
      "metadata": {
        "id": "EN7DoPoOYEBq",
        "colab_type": "text"
      },
      "source": [
        "### Map"
      ]
    },
    {
      "cell_type": "code",
      "metadata": {
        "id": "8DvxApKsXOsI",
        "colab_type": "code",
        "colab": {}
      },
      "source": [
        "name_age = tuple(map(lambda x: {'name': x.name, 'age': 2020 - x.born} , scientists))"
      ],
      "execution_count": 0,
      "outputs": []
    },
    {
      "cell_type": "code",
      "metadata": {
        "id": "8ml6G3e-Sw1U",
        "colab_type": "code",
        "colab": {
          "base_uri": "https://localhost:8080/",
          "height": 136
        },
        "outputId": "7cc14311-f3d2-4ff6-96e9-510a30c66d8e"
      },
      "source": [
        "pprint(name_age)"
      ],
      "execution_count": 32,
      "outputs": [
        {
          "output_type": "stream",
          "text": [
            "({'age': 205, 'name': 'Ada Lovelace'},\n",
            " {'age': 138, 'name': 'Emmy Noether'},\n",
            " {'age': 153, 'name': 'Marie Curie'},\n",
            " {'age': 90, 'name': 'Tu Youyou'},\n",
            " {'age': 81, 'name': 'Ada Yonath'},\n",
            " {'age': 92, 'name': 'Vera Rubin'},\n",
            " {'age': 69, 'name': 'Sally Ride'})\n"
          ],
          "name": "stdout"
        }
      ]
    },
    {
      "cell_type": "markdown",
      "metadata": {
        "id": "_q2ottpeUIZX",
        "colab_type": "text"
      },
      "source": [
        "##### Used for transformations, easy mapping of the same"
      ]
    },
    {
      "cell_type": "code",
      "metadata": {
        "id": "MR-1DuS6TQI8",
        "colab_type": "code",
        "colab": {
          "base_uri": "https://localhost:8080/",
          "height": 136
        },
        "outputId": "42cbdd2f-d318-4266-ea4f-617bf8583495"
      },
      "source": [
        "pprint(tuple({'name': x.name, 'age': 2020 - x.born} for x in scientists))"
      ],
      "execution_count": 34,
      "outputs": [
        {
          "output_type": "stream",
          "text": [
            "({'age': 205, 'name': 'Ada Lovelace'},\n",
            " {'age': 138, 'name': 'Emmy Noether'},\n",
            " {'age': 153, 'name': 'Marie Curie'},\n",
            " {'age': 90, 'name': 'Tu Youyou'},\n",
            " {'age': 81, 'name': 'Ada Yonath'},\n",
            " {'age': 92, 'name': 'Vera Rubin'},\n",
            " {'age': 69, 'name': 'Sally Ride'})\n"
          ],
          "name": "stdout"
        }
      ]
    },
    {
      "cell_type": "markdown",
      "metadata": {
        "id": "7ZazwG8kUUi3",
        "colab_type": "text"
      },
      "source": [
        "### Reduce"
      ]
    },
    {
      "cell_type": "code",
      "metadata": {
        "id": "asCz7ri0Ua4U",
        "colab_type": "code",
        "colab": {}
      },
      "source": [
        "from functools import reduce\n",
        "total_age = reduce(lambda acc, val : acc + val['age'], name_age, 0) # 0 is the initial value of accumulator"
      ],
      "execution_count": 0,
      "outputs": []
    },
    {
      "cell_type": "code",
      "metadata": {
        "id": "Cmv31UYLX578",
        "colab_type": "code",
        "colab": {
          "base_uri": "https://localhost:8080/",
          "height": 34
        },
        "outputId": "0a2b69f4-25a6-4bf6-e55b-c7cacbaeceef"
      },
      "source": [
        "total_age"
      ],
      "execution_count": 41,
      "outputs": [
        {
          "output_type": "execute_result",
          "data": {
            "text/plain": [
              "828"
            ]
          },
          "metadata": {
            "tags": []
          },
          "execution_count": 41
        }
      ]
    },
    {
      "cell_type": "code",
      "metadata": {
        "id": "3KJHSZfOYPlc",
        "colab_type": "code",
        "colab": {}
      },
      "source": [
        "def reducer(acc, val):\n",
        "  acc[val.field].append(val.name)\n",
        "  return acc\n",
        "  "
      ],
      "execution_count": 0,
      "outputs": []
    },
    {
      "cell_type": "code",
      "metadata": {
        "id": "mN-1FnU5ZL0K",
        "colab_type": "code",
        "colab": {
          "base_uri": "https://localhost:8080/",
          "height": 85
        },
        "outputId": "ef95ceec-15d0-4fa2-87c4-8a9b9e8fd7d6"
      },
      "source": [
        "reduce(reducer, scientists,{'math': [], 'physics':[], 'chemistry': [], 'astronomy': []})"
      ],
      "execution_count": 45,
      "outputs": [
        {
          "output_type": "execute_result",
          "data": {
            "text/plain": [
              "{'astronomy': ['Vera Rubin'],\n",
              " 'chemistry': ['Tu Youyou', 'Ada Yonath'],\n",
              " 'math': ['Ada Lovelace', 'Emmy Noether'],\n",
              " 'physics': ['Marie Curie', 'Sally Ride']}"
            ]
          },
          "metadata": {
            "tags": []
          },
          "execution_count": 45
        }
      ]
    },
    {
      "cell_type": "code",
      "metadata": {
        "id": "D5o-Mm7-ZQHj",
        "colab_type": "code",
        "colab": {
          "base_uri": "https://localhost:8080/",
          "height": 85
        },
        "outputId": "1a982f4a-dc3c-4cfa-9a23-56dd5e393dbb"
      },
      "source": [
        "pprint(reduce(reducer, scientists,{'math': [], 'physics':[], 'chemistry': [], 'astronomy': []}))"
      ],
      "execution_count": 46,
      "outputs": [
        {
          "output_type": "stream",
          "text": [
            "{'astronomy': ['Vera Rubin'],\n",
            " 'chemistry': ['Tu Youyou', 'Ada Yonath'],\n",
            " 'math': ['Ada Lovelace', 'Emmy Noether'],\n",
            " 'physics': ['Marie Curie', 'Sally Ride']}\n"
          ],
          "name": "stdout"
        }
      ]
    },
    {
      "cell_type": "code",
      "metadata": {
        "id": "KAT5LsG-ZpnO",
        "colab_type": "code",
        "colab": {
          "base_uri": "https://localhost:8080/",
          "height": 102
        },
        "outputId": "f1287455-b43e-4006-b5c8-15b40cede2dc"
      },
      "source": [
        "import collections \n",
        "reduce(reducer, scientists, collections.defaultdict(list)) # defines the unique key in dictionary"
      ],
      "execution_count": 49,
      "outputs": [
        {
          "output_type": "execute_result",
          "data": {
            "text/plain": [
              "defaultdict(list,\n",
              "            {'astronomy': ['Vera Rubin'],\n",
              "             'chemistry': ['Tu Youyou', 'Ada Yonath'],\n",
              "             'math': ['Ada Lovelace', 'Emmy Noether'],\n",
              "             'physics': ['Marie Curie', 'Sally Ride']})"
            ]
          },
          "metadata": {
            "tags": []
          },
          "execution_count": 49
        }
      ]
    },
    {
      "cell_type": "code",
      "metadata": {
        "id": "0X2Mme8oZ2PU",
        "colab_type": "code",
        "colab": {}
      },
      "source": [
        "# Pythonic version\n",
        "import itertools\n",
        "scientists_by_fields = {\n",
        "    item[0]: list(item[1])\n",
        "    for item in itertools.groupby(scientists, lambda x: x.field)\n",
        "}"
      ],
      "execution_count": 0,
      "outputs": []
    },
    {
      "cell_type": "code",
      "metadata": {
        "id": "Sea52mo5a93B",
        "colab_type": "code",
        "colab": {
          "base_uri": "https://localhost:8080/",
          "height": 119
        },
        "outputId": "c5ca83ad-77c9-4d58-f92f-f00f40e23986"
      },
      "source": [
        "scientists_by_fields"
      ],
      "execution_count": 51,
      "outputs": [
        {
          "output_type": "execute_result",
          "data": {
            "text/plain": [
              "{'astronomy': [Scientist(name='Vera Rubin', field='astronomy', born=1928, nobel=False)],\n",
              " 'chemistry': [Scientist(name='Tu Youyou', field='chemistry', born=1930, nobel=True),\n",
              "  Scientist(name='Ada Yonath', field='chemistry', born=1939, nobel=True)],\n",
              " 'math': [Scientist(name='Ada Lovelace', field='math', born=1815, nobel=False),\n",
              "  Scientist(name='Emmy Noether', field='math', born=1882, nobel=False)],\n",
              " 'physics': [Scientist(name='Sally Ride', field='physics', born=1951, nobel=False)]}"
            ]
          },
          "metadata": {
            "tags": []
          },
          "execution_count": 51
        }
      ]
    },
    {
      "cell_type": "code",
      "metadata": {
        "id": "vck4O1-Va_2n",
        "colab_type": "code",
        "colab": {
          "base_uri": "https://localhost:8080/",
          "height": 119
        },
        "outputId": "512ad910-b7b9-4e1d-d176-a33aea6ad50f"
      },
      "source": [
        "pprint(scientists_by_fields)"
      ],
      "execution_count": 52,
      "outputs": [
        {
          "output_type": "stream",
          "text": [
            "{'astronomy': [Scientist(name='Vera Rubin', field='astronomy', born=1928, nobel=False)],\n",
            " 'chemistry': [Scientist(name='Tu Youyou', field='chemistry', born=1930, nobel=True),\n",
            "               Scientist(name='Ada Yonath', field='chemistry', born=1939, nobel=True)],\n",
            " 'math': [Scientist(name='Ada Lovelace', field='math', born=1815, nobel=False),\n",
            "          Scientist(name='Emmy Noether', field='math', born=1882, nobel=False)],\n",
            " 'physics': [Scientist(name='Sally Ride', field='physics', born=1951, nobel=False)]}\n"
          ],
          "name": "stdout"
        }
      ]
    },
    {
      "cell_type": "code",
      "metadata": {
        "id": "2IAvdf0WbCQ0",
        "colab_type": "code",
        "colab": {}
      },
      "source": [
        "# not for production like codes, but different ways to do it\n",
        "scientists_by_field2 = reduce(\n",
        "    lambda acc, val: {**acc, **{val.field: acc[val.field] + [val.name]}}, scientists, \n",
        "    {'math': [], 'physics':[], 'chemistry': [], 'astronomy': []}\n",
        ")"
      ],
      "execution_count": 0,
      "outputs": []
    },
    {
      "cell_type": "code",
      "metadata": {
        "id": "xGzlz4G4cbqK",
        "colab_type": "code",
        "colab": {
          "base_uri": "https://localhost:8080/",
          "height": 85
        },
        "outputId": "c0228796-ce20-4391-b1fd-d33ea669909b"
      },
      "source": [
        "scientists_by_field2"
      ],
      "execution_count": 54,
      "outputs": [
        {
          "output_type": "execute_result",
          "data": {
            "text/plain": [
              "{'astronomy': ['Vera Rubin'],\n",
              " 'chemistry': ['Tu Youyou', 'Ada Yonath'],\n",
              " 'math': ['Ada Lovelace', 'Emmy Noether'],\n",
              " 'physics': ['Marie Curie', 'Sally Ride']}"
            ]
          },
          "metadata": {
            "tags": []
          },
          "execution_count": 54
        }
      ]
    },
    {
      "cell_type": "markdown",
      "metadata": {
        "id": "TfatH8huihFd",
        "colab_type": "text"
      },
      "source": [
        "Multiprocessing Testbed "
      ]
    },
    {
      "cell_type": "code",
      "metadata": {
        "id": "Fur-XeRqcc4p",
        "colab_type": "code",
        "colab": {}
      },
      "source": [
        "def transform(x):\n",
        "  return {'name': x.name, 'age': 2020 - x.born}"
      ],
      "execution_count": 0,
      "outputs": []
    },
    {
      "cell_type": "code",
      "metadata": {
        "id": "TqOh4yxIi3JV",
        "colab_type": "code",
        "colab": {}
      },
      "source": [
        "results = tuple(map(transform, scientists))"
      ],
      "execution_count": 0,
      "outputs": []
    },
    {
      "cell_type": "code",
      "metadata": {
        "id": "hUPaky28i_DO",
        "colab_type": "code",
        "colab": {
          "base_uri": "https://localhost:8080/",
          "height": 136
        },
        "outputId": "a9498ad5-33bb-465b-e0f8-c950ad71f513"
      },
      "source": [
        "pprint(results)"
      ],
      "execution_count": 58,
      "outputs": [
        {
          "output_type": "stream",
          "text": [
            "({'age': 205, 'name': 'Ada Lovelace'},\n",
            " {'age': 138, 'name': 'Emmy Noether'},\n",
            " {'age': 153, 'name': 'Marie Curie'},\n",
            " {'age': 90, 'name': 'Tu Youyou'},\n",
            " {'age': 81, 'name': 'Ada Yonath'},\n",
            " {'age': 92, 'name': 'Vera Rubin'},\n",
            " {'age': 69, 'name': 'Sally Ride'})\n"
          ],
          "name": "stdout"
        }
      ]
    },
    {
      "cell_type": "code",
      "metadata": {
        "id": "zGmU0U2QjG04",
        "colab_type": "code",
        "colab": {
          "base_uri": "https://localhost:8080/",
          "height": 136
        },
        "outputId": "78fd056b-9149-4669-ad80-d947e9885978"
      },
      "source": [
        "# lets make it slow\n",
        "import time\n",
        "def transform_slow(x):\n",
        "  time.sleep(1) \n",
        "  return {'name': x.name, 'age': 2020 - x.born}\n",
        "\n",
        "results_slow = tuple(map(transform_slow, scientists))\n",
        "pprint(results_slow)"
      ],
      "execution_count": 60,
      "outputs": [
        {
          "output_type": "stream",
          "text": [
            "({'age': 205, 'name': 'Ada Lovelace'},\n",
            " {'age': 138, 'name': 'Emmy Noether'},\n",
            " {'age': 153, 'name': 'Marie Curie'},\n",
            " {'age': 90, 'name': 'Tu Youyou'},\n",
            " {'age': 81, 'name': 'Ada Yonath'},\n",
            " {'age': 92, 'name': 'Vera Rubin'},\n",
            " {'age': 69, 'name': 'Sally Ride'})\n"
          ],
          "name": "stdout"
        }
      ]
    },
    {
      "cell_type": "code",
      "metadata": {
        "id": "uCvjqFGBjuHb",
        "colab_type": "code",
        "colab": {}
      },
      "source": [
        "# Lets make it paralle!\n",
        "import multiprocessing"
      ],
      "execution_count": 0,
      "outputs": []
    },
    {
      "cell_type": "code",
      "metadata": {
        "id": "Qs7c5SSzkNt1",
        "colab_type": "code",
        "colab": {
          "base_uri": "https://localhost:8080/",
          "height": 408
        },
        "outputId": "7ab8dbdc-6d7a-4b71-c951-cf9ab00567d9"
      },
      "source": [
        "def transform(x):\n",
        "  print(f'Processing record {x.name}')\n",
        "  time.sleep(1)\n",
        "  results = {'name': x.name, 'age': 2020 - x.born}\n",
        "  print(f'done processing recird {x.name}')\n",
        "  return results\n",
        "  \n",
        "\n",
        "start = time.time()\n",
        "\n",
        "results = tuple(map(transform, scientists))\n",
        "\n",
        "end = time.time()\n",
        "print(f'time to complete' {end - start}')\n",
        "pprint(results)\n"
      ],
      "execution_count": 62,
      "outputs": [
        {
          "output_type": "stream",
          "text": [
            "Processing record Ada Lovelace\n",
            "ERROR! Session/line number was not unique in database. History logging moved to new session 64\n",
            "done processing recird Ada Lovelace\n",
            "Processing record Emmy Noether\n",
            "done processing recird Emmy Noether\n",
            "Processing record Marie Curie\n",
            "done processing recird Marie Curie\n",
            "Processing record Tu Youyou\n",
            "done processing recird Tu Youyou\n",
            "Processing record Ada Yonath\n",
            "done processing recird Ada Yonath\n",
            "Processing record Vera Rubin\n",
            "done processing recird Vera Rubin\n",
            "Processing record Sally Ride\n",
            "done processing recird Sally Ride\n",
            "time to complete 7.011304616928101\n",
            "({'age': 205, 'name': 'Ada Lovelace'},\n",
            " {'age': 138, 'name': 'Emmy Noether'},\n",
            " {'age': 153, 'name': 'Marie Curie'},\n",
            " {'age': 90, 'name': 'Tu Youyou'},\n",
            " {'age': 81, 'name': 'Ada Yonath'},\n",
            " {'age': 92, 'name': 'Vera Rubin'},\n",
            " {'age': 69, 'name': 'Sally Ride'})\n"
          ],
          "name": "stdout"
        }
      ]
    },
    {
      "cell_type": "code",
      "metadata": {
        "id": "0YriJZjAlLLI",
        "colab_type": "code",
        "colab": {
          "base_uri": "https://localhost:8080/",
          "height": 408
        },
        "outputId": "cf79751e-219e-49ad-9f6c-722c3b0b7fa6"
      },
      "source": [
        "def transform(x):\n",
        "  print(f'Processing record {x.name}')\n",
        "  time.sleep(1)\n",
        "  results = {'name': x.name, 'age': 2020 - x.born}\n",
        "  print(f'done processing recird {x.name}')\n",
        "  return results\n",
        "  \n",
        "\n",
        "start = time.time()\n",
        "pool = multiprocessing.Pool()\n",
        "results = pool.map(transform, scientists)\n",
        "\n",
        "end = time.time()\n",
        "print(f'time to complete {end - start}')\n",
        "pprint(results)\n"
      ],
      "execution_count": 63,
      "outputs": [
        {
          "output_type": "stream",
          "text": [
            "ERROR! Session/line number was not unique in database. History logging moved to new session 65\n",
            "Processing record Ada Lovelace\n",
            "Processing record Emmy Noether\n",
            "done processing recird Emmy Noether\n",
            "done processing recird Ada Lovelace\n",
            "Processing record Marie Curie\n",
            "Processing record Tu Youyou\n",
            "done processing recird Marie Curie\n",
            "Processing record Ada Yonath\n",
            "done processing recird Tu Youyou\n",
            "Processing record Vera Rubin\n",
            "done processing recird Ada Yonath\n",
            "Processing record Sally Ride\n",
            "done processing recird Vera Rubin\n",
            "done processing recird Sally Ride\n",
            "time to complete 4.070314407348633\n",
            "[{'age': 205, 'name': 'Ada Lovelace'},\n",
            " {'age': 138, 'name': 'Emmy Noether'},\n",
            " {'age': 153, 'name': 'Marie Curie'},\n",
            " {'age': 90, 'name': 'Tu Youyou'},\n",
            " {'age': 81, 'name': 'Ada Yonath'},\n",
            " {'age': 92, 'name': 'Vera Rubin'},\n",
            " {'age': 69, 'name': 'Sally Ride'}]\n"
          ],
          "name": "stdout"
        }
      ]
    },
    {
      "cell_type": "code",
      "metadata": {
        "id": "y0b15pJYloIq",
        "colab_type": "code",
        "colab": {
          "base_uri": "https://localhost:8080/",
          "height": 391
        },
        "outputId": "12f0008b-695d-45fa-d4eb-7e732162b276"
      },
      "source": [
        "import os\n",
        "# os.getpid to understand the unique processes at a time\n",
        "def transform(x):\n",
        "  print(f'Process {os.getpid()} {x.name}')\n",
        "  time.sleep(1)\n",
        "  results = {'name': x.name, 'age': 2020 - x.born}\n",
        "  print(f'Process {os.getpid()} {x.name}') \n",
        "  return results\n",
        "  \n",
        "\n",
        "start = time.time()\n",
        "pool = multiprocessing.Pool()\n",
        "results = pool.map(transform, scientists)\n",
        "\n",
        "end = time.time()\n",
        "print(f'time to complete {end - start}') \n",
        "pprint(results)\n"
      ],
      "execution_count": 66,
      "outputs": [
        {
          "output_type": "stream",
          "text": [
            "Process 757 Emmy Noether\n",
            "Process 756 Ada Lovelace\n",
            "Process 757 Emmy Noether\n",
            "Process 756 Ada Lovelace\n",
            "Process 756 Marie Curie\n",
            "Process 757 Tu Youyou\n",
            "Process 756 Marie Curie\n",
            "Process 757 Tu Youyou\n",
            "Process 756 Vera Rubin\n",
            "Process 757 Ada Yonath\n",
            "Process 756 Vera Rubin\n",
            "Process 756 Sally Ride\n",
            "Process 757 Ada Yonath\n",
            "Process 756 Sally Ride\n",
            "time to complete 4.056396722793579\n",
            "[{'age': 205, 'name': 'Ada Lovelace'},\n",
            " {'age': 138, 'name': 'Emmy Noether'},\n",
            " {'age': 153, 'name': 'Marie Curie'},\n",
            " {'age': 90, 'name': 'Tu Youyou'},\n",
            " {'age': 81, 'name': 'Ada Yonath'},\n",
            " {'age': 92, 'name': 'Vera Rubin'},\n",
            " {'age': 69, 'name': 'Sally Ride'}]\n"
          ],
          "name": "stdout"
        }
      ]
    },
    {
      "cell_type": "code",
      "metadata": {
        "id": "cIwvSL_lmbP7",
        "colab_type": "code",
        "colab": {
          "base_uri": "https://localhost:8080/",
          "height": 391
        },
        "outputId": "6d176c2a-bbe4-4469-b985-9d7c6110d82d"
      },
      "source": [
        "# Running only one process\n",
        "# os.getpid to understand the unique processes at a time\n",
        "def transform(x):\n",
        "  print(f'Process {os.getpid()} {x.name}')\n",
        "  time.sleep(1)\n",
        "  results = {'name': x.name, 'age': 2020 - x.born}\n",
        "  print(f'Process {os.getpid()} {x.name}') \n",
        "  return results\n",
        "  \n",
        "\n",
        "start = time.time()\n",
        "pool = multiprocessing.Pool(processes= 1)\n",
        "results = pool.map(transform, scientists)\n",
        "\n",
        "end = time.time()\n",
        "print(f'time to complete {end - start}') \n",
        "pprint(results)\n"
      ],
      "execution_count": 67,
      "outputs": [
        {
          "output_type": "stream",
          "text": [
            "Process 795 Ada Lovelace\n",
            "Process 795 Ada Lovelace\n",
            "Process 795 Emmy Noether\n",
            "Process 795 Emmy Noether\n",
            "Process 795 Marie Curie\n",
            "Process 795 Marie Curie\n",
            "Process 795 Tu Youyou\n",
            "Process 795 Tu Youyou\n",
            "Process 795 Ada Yonath\n",
            "Process 795 Ada Yonath\n",
            "Process 795 Vera Rubin\n",
            "Process 795 Vera Rubin\n",
            "Process 795 Sally Ride\n",
            "Process 795 Sally Ride\n",
            "time to complete 7.066489219665527\n",
            "[{'age': 205, 'name': 'Ada Lovelace'},\n",
            " {'age': 138, 'name': 'Emmy Noether'},\n",
            " {'age': 153, 'name': 'Marie Curie'},\n",
            " {'age': 90, 'name': 'Tu Youyou'},\n",
            " {'age': 81, 'name': 'Ada Yonath'},\n",
            " {'age': 92, 'name': 'Vera Rubin'},\n",
            " {'age': 69, 'name': 'Sally Ride'}]\n"
          ],
          "name": "stdout"
        }
      ]
    },
    {
      "cell_type": "code",
      "metadata": {
        "id": "rh85wzOXm1_m",
        "colab_type": "code",
        "colab": {
          "base_uri": "https://localhost:8080/",
          "height": 391
        },
        "outputId": "3c47c74d-765e-426e-c2c2-1271cd7e5471"
      },
      "source": [
        "import os\n",
        "# os.getpid to understand the unique processes at a time\n",
        "def transform(x):\n",
        "  print(f'Process {os.getpid()} {x.name}')\n",
        "  time.sleep(1)\n",
        "  results = {'name': x.name, 'age': 2020 - x.born}\n",
        "  print(f'Process {os.getpid()} {x.name}') \n",
        "  return results\n",
        "  \n",
        "\n",
        "start = time.time()\n",
        "pool = multiprocessing.Pool(processes= 4, maxtasksperchild= 2)\n",
        "results = pool.map(transform, scientists)\n",
        "\n",
        "end = time.time()\n",
        "print(f'time to complete {end - start}') \n",
        "pprint(results)\n"
      ],
      "execution_count": 69,
      "outputs": [
        {
          "output_type": "stream",
          "text": [
            "Process 876 Marie Curie\n",
            "Process 874 Ada Lovelace\n",
            "Process 877 Tu Youyou\n",
            "Process 875 Emmy Noether\n",
            "Process 876 Marie Curie\n",
            "Process 874 Ada Lovelace\n",
            "Process 877 Tu Youyou\n",
            "Process 876 Ada Yonath\n",
            "Process 875 Emmy Noether\n",
            "Process 875 Sally Ride\n",
            "Process 877 Vera Rubin\n",
            "Process 876 Ada Yonath\n",
            "Process 877 Vera Rubin\n",
            "Process 875 Sally Ride\n",
            "time to complete 2.0788445472717285\n",
            "[{'age': 205, 'name': 'Ada Lovelace'},\n",
            " {'age': 138, 'name': 'Emmy Noether'},\n",
            " {'age': 153, 'name': 'Marie Curie'},\n",
            " {'age': 90, 'name': 'Tu Youyou'},\n",
            " {'age': 81, 'name': 'Ada Yonath'},\n",
            " {'age': 92, 'name': 'Vera Rubin'},\n",
            " {'age': 69, 'name': 'Sally Ride'}]\n"
          ],
          "name": "stdout"
        }
      ]
    },
    {
      "cell_type": "markdown",
      "metadata": {
        "id": "CJ88wifEn2Ll",
        "colab_type": "text"
      },
      "source": [
        "Concurrent module in python 3"
      ]
    },
    {
      "cell_type": "code",
      "metadata": {
        "id": "KIylphHCm5-h",
        "colab_type": "code",
        "colab": {
          "base_uri": "https://localhost:8080/",
          "height": 391
        },
        "outputId": "4f33ec3d-a878-429a-aeaf-95936828a908"
      },
      "source": [
        "# os.getpid to understand the unique processes at a time\n",
        "def transform(x):\n",
        "  print(f'Process {os.getpid()} {x.name}')\n",
        "  time.sleep(1)\n",
        "  results = {'name': x.name, 'age': 2020 - x.born}\n",
        "  print(f'Process {os.getpid()} {x.name}') \n",
        "  return results\n",
        "  \n",
        "\n",
        "start = time.time()\n",
        "with concurrent.futures.ProcessPoolExecutor() as executor:\n",
        "  results = executor.map(transform, scientists)\n",
        "\n",
        "end = time.time()\n",
        "print(f'time to complete {end - start}') \n",
        "pprint(tuple(results))\n"
      ],
      "execution_count": 72,
      "outputs": [
        {
          "output_type": "stream",
          "text": [
            "Process 983 Ada Lovelace\n",
            "Process 984 Emmy Noether\n",
            "Process 983 Ada Lovelace\n",
            "Process 984 Emmy Noether\n",
            "Process 983 Marie Curie\n",
            "Process 984 Tu Youyou\n",
            "Process 983 Marie Curie\n",
            "Process 984 Tu Youyou\n",
            "Process 984 Vera Rubin\n",
            "Process 983 Ada Yonath\n",
            "Process 984 Vera Rubin\n",
            "Process 983 Ada Yonath\n",
            "Process 983 Sally Ride\n",
            "Process 983 Sally Ride\n",
            "time to complete 4.060559034347534\n",
            "({'age': 205, 'name': 'Ada Lovelace'},\n",
            " {'age': 138, 'name': 'Emmy Noether'},\n",
            " {'age': 153, 'name': 'Marie Curie'},\n",
            " {'age': 90, 'name': 'Tu Youyou'},\n",
            " {'age': 81, 'name': 'Ada Yonath'},\n",
            " {'age': 92, 'name': 'Vera Rubin'},\n",
            " {'age': 69, 'name': 'Sally Ride'})\n"
          ],
          "name": "stdout"
        }
      ]
    },
    {
      "cell_type": "markdown",
      "metadata": {
        "id": "EMabYtjfpYCR",
        "colab_type": "text"
      },
      "source": [
        "One point to consider is that concurrent.futures provides a couple different implementations that allow you to easily change how your computations are happening in parallel."
      ]
    },
    {
      "cell_type": "code",
      "metadata": {
        "id": "nIDci30FofV_",
        "colab_type": "code",
        "colab": {
          "base_uri": "https://localhost:8080/",
          "height": 391
        },
        "outputId": "5009a53b-533b-4284-ac07-81f0b273178c"
      },
      "source": [
        "# os.getpid to understand the unique processes at a time\n",
        "def transform(x):\n",
        "  print(f'Process {os.getpid()} {x.name}')\n",
        "  time.sleep(1)\n",
        "  results = {'name': x.name, 'age': 2020 - x.born}\n",
        "  print(f'Process {os.getpid()} {x.name}') \n",
        "  return results\n",
        "  \n",
        "\n",
        "start = time.time()\n",
        "with concurrent.futures.ThreadPoolExecutor() as executor:\n",
        "  results = executor.map(transform, scientists)\n",
        "\n",
        "end = time.time()\n",
        "print(f'time to complete {end - start}') \n",
        "pprint(tuple(results))\n"
      ],
      "execution_count": 73,
      "outputs": [
        {
          "output_type": "stream",
          "text": [
            "Process 119 Emmy NoetherProcess 119 Ada LovelaceProcess 119 Marie CurieProcess 119 Tu Youyou\n",
            "\n",
            "\n",
            "\n",
            "Process 119 Ada Yonath\n",
            "Process 119 Vera Rubin\n",
            "Process 119 Sally Ride\n",
            "Process 119 Emmy Noether\n",
            "Process 119 Marie Curie\n",
            "Process 119 Tu Youyou\n",
            "Process 119 Ada Lovelace\n",
            "Process 119 Ada Yonath\n",
            "Process 119 Vera Rubin\n",
            "Process 119 Sally Ride\n",
            "time to complete 1.014667272567749\n",
            "({'age': 205, 'name': 'Ada Lovelace'},\n",
            " {'age': 138, 'name': 'Emmy Noether'},\n",
            " {'age': 153, 'name': 'Marie Curie'},\n",
            " {'age': 90, 'name': 'Tu Youyou'},\n",
            " {'age': 81, 'name': 'Ada Yonath'},\n",
            " {'age': 92, 'name': 'Vera Rubin'},\n",
            " {'age': 69, 'name': 'Sally Ride'})\n"
          ],
          "name": "stdout"
        }
      ]
    },
    {
      "cell_type": "markdown",
      "metadata": {
        "id": "TOK-beM7pteu",
        "colab_type": "text"
      },
      "source": [
        " GIL, no two threads can execute Python code at the same time. So even if you have multiple threads running in your Python program, only one of them can execute at a time. The best way to get around this is to use process-based parallel programing, or process-based parallelism."
      ]
    },
    {
      "cell_type": "code",
      "metadata": {
        "id": "wktGkfWupgUM",
        "colab_type": "code",
        "colab": {}
      },
      "source": [
        ""
      ],
      "execution_count": 0,
      "outputs": []
    }
  ]
}