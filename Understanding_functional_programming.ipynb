{
  "nbformat": 4,
  "nbformat_minor": 0,
  "metadata": {
    "colab": {
      "name": "Understanding functional programming",
      "provenance": [],
      "collapsed_sections": [],
      "authorship_tag": "ABX9TyPx2u0fsM3L904gVMRSj2Gv",
      "include_colab_link": true
    },
    "kernelspec": {
      "name": "python3",
      "display_name": "Python 3"
    }
  },
  "cells": [
    {
      "cell_type": "markdown",
      "metadata": {
        "id": "view-in-github",
        "colab_type": "text"
      },
      "source": [
        "<a href=\"https://colab.research.google.com/github/jigyasu10/python_codes/blob/master/Understanding_functional_programming.ipynb\" target=\"_parent\"><img src=\"https://colab.research.google.com/assets/colab-badge.svg\" alt=\"Open In Colab\"/></a>"
      ]
    },
    {
      "cell_type": "code",
      "metadata": {
        "id": "Lm5FLpOJ3ZwE",
        "colab_type": "code",
        "colab": {}
      },
      "source": [
        "import collections"
      ],
      "execution_count": 0,
      "outputs": []
    },
    {
      "cell_type": "code",
      "metadata": {
        "id": "SjU_81Zt4Dbw",
        "colab_type": "code",
        "colab": {}
      },
      "source": [
        "scientist = collections.namedtuple('Scientist', ['name','field','birthday','nobel'])"
      ],
      "execution_count": 0,
      "outputs": []
    },
    {
      "cell_type": "code",
      "metadata": {
        "id": "xCH16tD04dDu",
        "colab_type": "code",
        "colab": {
          "base_uri": "https://localhost:8080/",
          "height": 34
        },
        "outputId": "2400910a-5a12-4263-d888-6deb3ee6c9de"
      },
      "source": [
        "scientist"
      ],
      "execution_count": 3,
      "outputs": [
        {
          "output_type": "execute_result",
          "data": {
            "text/plain": [
              "__main__.Scientist"
            ]
          },
          "metadata": {
            "tags": []
          },
          "execution_count": 3
        }
      ]
    },
    {
      "cell_type": "code",
      "metadata": {
        "id": "-X3Mzv3a4gW2",
        "colab_type": "code",
        "colab": {
          "base_uri": "https://localhost:8080/",
          "height": 34
        },
        "outputId": "33294efa-070a-4935-c970-75ef1c47998b"
      },
      "source": [
        "scientist(name = 'Ada Lovelace', field = 'math', birthday = '1815', nobel =False)"
      ],
      "execution_count": 4,
      "outputs": [
        {
          "output_type": "execute_result",
          "data": {
            "text/plain": [
              "Scientist(name='Ada Lovelace', field='math', birthday='1815', nobel=False)"
            ]
          },
          "metadata": {
            "tags": []
          },
          "execution_count": 4
        }
      ]
    },
    {
      "cell_type": "code",
      "metadata": {
        "id": "WJ9FRbyW41BA",
        "colab_type": "code",
        "colab": {}
      },
      "source": [
        "ada = scientist(name = 'Ada Lovelace', field = 'math', birthday = '1815', nobel =False)"
      ],
      "execution_count": 0,
      "outputs": []
    },
    {
      "cell_type": "code",
      "metadata": {
        "id": "SIPQwAVm48hs",
        "colab_type": "code",
        "colab": {
          "base_uri": "https://localhost:8080/",
          "height": 34
        },
        "outputId": "0c9a9bea-a8bd-4005-ad22-19bd0b457bc1"
      },
      "source": [
        "### This is an immutable object now\n",
        "ada.name\n",
        "\n"
      ],
      "execution_count": 7,
      "outputs": [
        {
          "output_type": "execute_result",
          "data": {
            "text/plain": [
              "'Ada Lovelace'"
            ]
          },
          "metadata": {
            "tags": []
          },
          "execution_count": 7
        }
      ]
    },
    {
      "cell_type": "code",
      "metadata": {
        "id": "ir1P2wYb6cTa",
        "colab_type": "code",
        "colab": {}
      },
      "source": [
        "from pprint import pprint\n"
      ],
      "execution_count": 0,
      "outputs": []
    },
    {
      "cell_type": "code",
      "metadata": {
        "id": "oEp_YCA76vk6",
        "colab_type": "code",
        "colab": {}
      },
      "source": [
        "scientists = tuple([\n",
        "...     {'name': 'Ada Lovelace', 'field': 'math', 'born': 1815, 'nobel': False},\n",
        "...     {'name': 'Emmy Noether', 'field': 'math', 'born': 1882, 'nobel': False},\n",
        "...     {'name': 'Marie Curie', 'field': 'physics', 'born': 1930, 'nobel': True},\n",
        "... ])\n"
      ],
      "execution_count": 0,
      "outputs": []
    },
    {
      "cell_type": "code",
      "metadata": {
        "id": "vOhwFqwt6x1D",
        "colab_type": "code",
        "colab": {
          "base_uri": "https://localhost:8080/",
          "height": 68
        },
        "outputId": "5fcedee7-a28a-4600-85ff-26db8a69d4cd"
      },
      "source": [
        "pprint(scientists)"
      ],
      "execution_count": 17,
      "outputs": [
        {
          "output_type": "stream",
          "text": [
            "({'born': 1815, 'field': 'math', 'name': 'Ada Lovelace', 'nobel': False},\n",
            " {'born': 1882, 'field': 'math', 'name': 'Emmy Noether', 'nobel': False},\n",
            " {'born': 1930, 'field': 'physics', 'name': 'Marie Curie', 'nobel': True})\n"
          ],
          "name": "stdout"
        }
      ]
    },
    {
      "cell_type": "code",
      "metadata": {
        "id": "M-r023mJ68dV",
        "colab_type": "code",
        "colab": {}
      },
      "source": [
        "import collections\n",
        "\n",
        "Scientist = collections.namedtuple('Scientist', [\n",
        "    'name',\n",
        "    'field',\n",
        "    'born',\n",
        "    'nobel',\n",
        "])\n",
        "\n",
        "scientists = (\n",
        "    Scientist(name='Ada Lovelace', field='math', born=1815, nobel=False),\n",
        "    Scientist(name='Emmy Noether', field='math', born=1882, nobel=False),\n",
        "    Scientist(name='Marie Curie', field='physics', born=1867, nobel=True),\n",
        "    Scientist(name='Tu Youyou', field='chemistry', born=1930, nobel=True),\n",
        "    Scientist(name='Ada Yonath', field='chemistry', born=1939, nobel=True),\n",
        "    Scientist(name='Vera Rubin', field='astronomy', born=1928, nobel=False),\n",
        "    Scientist(name='Sally Ride', field='physics', born=1951, nobel=False),\n",
        ")\n"
      ],
      "execution_count": 0,
      "outputs": []
    },
    {
      "cell_type": "code",
      "metadata": {
        "id": "a_2sthtVPtkw",
        "colab_type": "code",
        "colab": {
          "base_uri": "https://localhost:8080/",
          "height": 136
        },
        "outputId": "54a7aa2f-e4d4-40e1-de67-6b22370baffd"
      },
      "source": [
        "scientists"
      ],
      "execution_count": 23,
      "outputs": [
        {
          "output_type": "execute_result",
          "data": {
            "text/plain": [
              "(Scientist(name='Ada Lovelace', field='math', born=1815, nobel=False),\n",
              " Scientist(name='Emmy Noether', field='math', born=1882, nobel=False),\n",
              " Scientist(name='Marie Curie', field='physics', born=1867, nobel=True),\n",
              " Scientist(name='Tu Youyou', field='chemistry', born=1930, nobel=True),\n",
              " Scientist(name='Ada Yonath', field='chemistry', born=1939, nobel=True),\n",
              " Scientist(name='Vera Rubin', field='astronomy', born=1928, nobel=False),\n",
              " Scientist(name='Sally Ride', field='physics', born=1951, nobel=False))"
            ]
          },
          "metadata": {
            "tags": []
          },
          "execution_count": 23
        }
      ]
    },
    {
      "cell_type": "code",
      "metadata": {
        "id": "Si4gKZ3XPuuV",
        "colab_type": "code",
        "colab": {
          "base_uri": "https://localhost:8080/",
          "height": 34
        },
        "outputId": "81384ffb-81cf-48d1-850a-18dc058f9ae2"
      },
      "source": [
        "scientists[0].name"
      ],
      "execution_count": 21,
      "outputs": [
        {
          "output_type": "execute_result",
          "data": {
            "text/plain": [
              "'Ada Lovelace'"
            ]
          },
          "metadata": {
            "tags": []
          },
          "execution_count": 21
        }
      ]
    },
    {
      "cell_type": "markdown",
      "metadata": {
        "id": "ctDAjlZHQbfO",
        "colab_type": "text"
      },
      "source": [
        "### Filter"
      ]
    },
    {
      "cell_type": "code",
      "metadata": {
        "id": "ws5zoIcjP6pG",
        "colab_type": "code",
        "colab": {}
      },
      "source": [
        "fs = filter(lambda x: x.nobel is True, scientists)"
      ],
      "execution_count": 0,
      "outputs": []
    },
    {
      "cell_type": "code",
      "metadata": {
        "id": "iFSsTguIRHSH",
        "colab_type": "code",
        "colab": {
          "base_uri": "https://localhost:8080/",
          "height": 34
        },
        "outputId": "52d5a468-0492-4f0f-8635-dd79a79f281d"
      },
      "source": [
        "next(fs)"
      ],
      "execution_count": 26,
      "outputs": [
        {
          "output_type": "execute_result",
          "data": {
            "text/plain": [
              "Scientist(name='Marie Curie', field='physics', born=1867, nobel=True)"
            ]
          },
          "metadata": {
            "tags": []
          },
          "execution_count": 26
        }
      ]
    },
    {
      "cell_type": "code",
      "metadata": {
        "id": "T9L3F7zxRTc9",
        "colab_type": "code",
        "colab": {
          "base_uri": "https://localhost:8080/",
          "height": 68
        },
        "outputId": "2f1e29e0-aa2c-40b1-e5ff-e5a2b9783153"
      },
      "source": [
        "fs_tuple = tuple(filter(lambda x: x.nobel is True, scientists))\n",
        "pprint(fs_tuple)"
      ],
      "execution_count": 27,
      "outputs": [
        {
          "output_type": "stream",
          "text": [
            "(Scientist(name='Marie Curie', field='physics', born=1867, nobel=True),\n",
            " Scientist(name='Tu Youyou', field='chemistry', born=1930, nobel=True),\n",
            " Scientist(name='Ada Yonath', field='chemistry', born=1939, nobel=True))\n"
          ],
          "name": "stdout"
        }
      ]
    },
    {
      "cell_type": "code",
      "metadata": {
        "id": "T7kTZqq8Rjhy",
        "colab_type": "code",
        "colab": {
          "base_uri": "https://localhost:8080/",
          "height": 136
        },
        "outputId": "b7ca9505-257c-4346-cc40-de6368301de8"
      },
      "source": [
        "pprint(tuple(filter(lambda x: True, scientists)))"
      ],
      "execution_count": 28,
      "outputs": [
        {
          "output_type": "stream",
          "text": [
            "(Scientist(name='Ada Lovelace', field='math', born=1815, nobel=False),\n",
            " Scientist(name='Emmy Noether', field='math', born=1882, nobel=False),\n",
            " Scientist(name='Marie Curie', field='physics', born=1867, nobel=True),\n",
            " Scientist(name='Tu Youyou', field='chemistry', born=1930, nobel=True),\n",
            " Scientist(name='Ada Yonath', field='chemistry', born=1939, nobel=True),\n",
            " Scientist(name='Vera Rubin', field='astronomy', born=1928, nobel=False),\n",
            " Scientist(name='Sally Ride', field='physics', born=1951, nobel=False))\n"
          ],
          "name": "stdout"
        }
      ]
    },
    {
      "cell_type": "code",
      "metadata": {
        "id": "CwkUtjMvR4_S",
        "colab_type": "code",
        "colab": {
          "base_uri": "https://localhost:8080/",
          "height": 68
        },
        "outputId": "c5cb78fd-06da-4351-cc22-bbddfc01e580"
      },
      "source": [
        "pprint(tuple(filter(lambda x: x.field == \"physics\", scientists)))"
      ],
      "execution_count": 29,
      "outputs": [
        {
          "output_type": "stream",
          "text": [
            "(Scientist(name='Marie Curie', field='physics', born=1867, nobel=True),\n",
            " Scientist(name='Sally Ride', field='physics', born=1951, nobel=False))\n",
            "ERROR! Session/line number was not unique in database. History logging moved to new session 59\n"
          ],
          "name": "stdout"
        }
      ]
    },
    {
      "cell_type": "code",
      "metadata": {
        "id": "ywoyIgT1SCoF",
        "colab_type": "code",
        "colab": {
          "base_uri": "https://localhost:8080/",
          "height": 68
        },
        "outputId": "c5b80174-3964-409a-e29f-95d99a36af12"
      },
      "source": [
        "# List comprehension\n",
        "[x for x in scientists if x.nobel is True]"
      ],
      "execution_count": 32,
      "outputs": [
        {
          "output_type": "execute_result",
          "data": {
            "text/plain": [
              "[Scientist(name='Marie Curie', field='physics', born=1867, nobel=True),\n",
              " Scientist(name='Tu Youyou', field='chemistry', born=1930, nobel=True),\n",
              " Scientist(name='Ada Yonath', field='chemistry', born=1939, nobel=True)]"
            ]
          },
          "metadata": {
            "tags": []
          },
          "execution_count": 32
        }
      ]
    },
    {
      "cell_type": "markdown",
      "metadata": {
        "id": "EN7DoPoOYEBq",
        "colab_type": "text"
      },
      "source": [
        "### Map"
      ]
    },
    {
      "cell_type": "code",
      "metadata": {
        "id": "8DvxApKsXOsI",
        "colab_type": "code",
        "colab": {}
      },
      "source": [
        ""
      ],
      "execution_count": 0,
      "outputs": []
    }
  ]
}